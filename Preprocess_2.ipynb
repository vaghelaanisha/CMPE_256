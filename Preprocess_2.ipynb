{
 "cells": [
  {
   "cell_type": "code",
   "execution_count": 2,
   "metadata": {},
   "outputs": [],
   "source": [
    "import json\n",
    "tweets = []\n",
    "for line in open('tweets.json', 'r'):\n",
    "    tweets.append(json.loads(line))"
   ]
  },
  {
   "cell_type": "code",
   "execution_count": 3,
   "metadata": {},
   "outputs": [
    {
     "data": {
      "text/plain": [
       "1000000"
      ]
     },
     "execution_count": 3,
     "metadata": {},
     "output_type": "execute_result"
    }
   ],
   "source": [
    "# tweets[0]\n",
    "len(tweets)"
   ]
  },
  {
   "cell_type": "code",
   "execution_count": 11,
   "metadata": {},
   "outputs": [],
   "source": [
    "import pandas as pd\n",
    "tweets_df = pd.DataFrame(columns=['id','tweet'],index=None)\n",
    "for tweet in tweets[0:10000]:\n",
    "    data = pd.DataFrame({\"id\":[tweet['id_str']],\"tweet\":[tweet['text']]})\n",
    "    tweets_df = tweets_df.append(data, ignore_index = True)"
   ]
  },
  {
   "cell_type": "code",
   "execution_count": 12,
   "metadata": {},
   "outputs": [
    {
     "data": {
      "text/plain": [
       "\"@SuePalmers As a youth who has lived abroad, I share the President's feelings. It changes how you view foreign relations quite a bit.\""
      ]
     },
     "execution_count": 12,
     "metadata": {},
     "output_type": "execute_result"
    }
   ],
   "source": [
    "tweets_df.iloc[1]['tweet']"
   ]
  },
  {
   "cell_type": "code",
   "execution_count": 13,
   "metadata": {},
   "outputs": [],
   "source": [
    "# import re\n",
    "# x = tweets_df.iloc[1]['tweet']\n",
    "# x = \"@SuePalmers As a youth who has lived abroad, I share the President's feelings. It changes how you view foreign relations quite a bit. #election2012\"\n",
    "# tweets_df.iloc[1]['tweet'] = ' '.join(re.sub(\"(@[A-Za-z0-9]+)|([# \\t])|(\\w+:\\/\\/\\S+)\",\" \",x).split())"
   ]
  },
  {
   "cell_type": "code",
   "execution_count": 16,
   "metadata": {},
   "outputs": [],
   "source": [
    "import re\n",
    "for i in range (0,10000):\n",
    "#     print(i)\n",
    "    x = tweets_df.iloc[i]['tweet']\n",
    "    tweets_df.iloc[i]['tweet'] = ' '.join(re.sub(\"(@[A-Za-z0-9]+)|([# \\t])|(\\w+:\\/\\/\\S+)\",\" \",x).split())"
   ]
  },
  {
   "cell_type": "code",
   "execution_count": 38,
   "metadata": {},
   "outputs": [
    {
     "name": "stdout",
     "output_type": "stream",
     "text": [
      "If mitt romney say he gunna legalize weed then obama is fucked\n",
      "As a youth who has lived abroad, I share the President's feelings. It changes how you view foreign relations quite a bit.\n",
      "RT : This \"President\" has the gall to apologize for our way of life?. You cant get Americans jobs, but you wanna make Musl ...\n",
      "Can we please stop pretending that Obama is a good man? He is not. Today proved that. Being a good father alone does not make you a good man\n",
      "RT : I am glad Mitt Romney defended America and free speech. It is clear President Obama is too busy appeasing radicals to ...\n",
      "Business Tax Accountant openings Youngstown Ohio USA\n",
      "RT : The official GOP response to Americans being killed abroad yesterday is that Obama is on the side of the killers. http: ...\n",
      "usa esto viejjaaa!\n",
      "Call Center Specialist careers Vandalia Illinois USA -careers.html\n",
      "RT : Obama would never make a good running back. He keeps dropping his balls.\n"
     ]
    }
   ],
   "source": [
    "for i in range (0,10):\n",
    "#     for word in tweet['text']:\n",
    "        print(tweets_df.iloc[i]['tweet'])"
   ]
  },
  {
   "cell_type": "code",
   "execution_count": 17,
   "metadata": {},
   "outputs": [
    {
     "data": {
      "text/plain": [
       "\"As a youth who has lived abroad, I share the President's feelings. It changes how you view foreign relations quite a bit.\""
      ]
     },
     "execution_count": 17,
     "metadata": {},
     "output_type": "execute_result"
    }
   ],
   "source": [
    "tweets_df.iloc[1]['tweet']"
   ]
  },
  {
   "cell_type": "code",
   "execution_count": 18,
   "metadata": {},
   "outputs": [],
   "source": [
    "from nltk.tokenize import word_tokenize\n",
    "# text = word_tokenize(\"And now for something completely different\")"
   ]
  },
  {
   "cell_type": "code",
   "execution_count": 20,
   "metadata": {},
   "outputs": [],
   "source": [
    "# import nltk\n",
    "# text = word_tokenize(tweets_df.iloc[1]['tweet'])\n",
    "# temp = nltk.pos_tag(text)"
   ]
  },
  {
   "cell_type": "code",
   "execution_count": 32,
   "metadata": {},
   "outputs": [],
   "source": [
    "import nltk\n",
    "tweets_imp_words_df = pd.DataFrame(columns=['id','Adj_Adv_Verb'],index=None)\n",
    "for i in range (0,10000):\n",
    "    text = word_tokenize(tweets_df.iloc[i]['tweet'])\n",
    "    pos_tagged_words = nltk.pos_tag(text)\n",
    "    tempStr = ''\n",
    "    for i in range(0,len(pos_tagged_words)):\n",
    "        if pos_tagged_words[i][1] in ['JJ','JJR','JJS','RB','RBR','RBS','VB','VBD','VBG','VBN','VBP','VBZ']:\n",
    "            tempStr += pos_tagged_words[i][0]+\" \"\n",
    "    tempData = pd.DataFrame({\"id\":[tweets_df.iloc[i]['id']],\"Adj_Adv_Verb\":[tempStr]})\n",
    "    tweets_imp_words_df = tweets_imp_words_df.append(tempData, ignore_index = True)"
   ]
  },
  {
   "cell_type": "code",
   "execution_count": 35,
   "metadata": {},
   "outputs": [
    {
     "data": {
      "text/html": [
       "<div>\n",
       "<style scoped>\n",
       "    .dataframe tbody tr th:only-of-type {\n",
       "        vertical-align: middle;\n",
       "    }\n",
       "\n",
       "    .dataframe tbody tr th {\n",
       "        vertical-align: top;\n",
       "    }\n",
       "\n",
       "    .dataframe thead th {\n",
       "        text-align: right;\n",
       "    }\n",
       "</style>\n",
       "<table border=\"1\" class=\"dataframe\">\n",
       "  <thead>\n",
       "    <tr style=\"text-align: right;\">\n",
       "      <th></th>\n",
       "      <th>id</th>\n",
       "      <th>Adj_Adv_Verb</th>\n",
       "    </tr>\n",
       "  </thead>\n",
       "  <tbody>\n",
       "    <tr>\n",
       "      <th>0</th>\n",
       "      <td>246058208366559232</td>\n",
       "      <td>mitt say gunna then obama is fucked</td>\n",
       "    </tr>\n",
       "    <tr>\n",
       "      <th>1</th>\n",
       "      <td>246058213500407808</td>\n",
       "      <td>has lived abroad changes view foreign quite</td>\n",
       "    </tr>\n",
       "    <tr>\n",
       "      <th>2</th>\n",
       "      <td>246058214507048960</td>\n",
       "      <td>has apologize cant get wan na make</td>\n",
       "    </tr>\n",
       "    <tr>\n",
       "      <th>3</th>\n",
       "      <td>246058214158897152</td>\n",
       "      <td>please stop is good is not proved Being good a...</td>\n",
       "    </tr>\n",
       "    <tr>\n",
       "      <th>4</th>\n",
       "      <td>246058214276354050</td>\n",
       "      <td>am glad defended free is clear is too busy app...</td>\n",
       "    </tr>\n",
       "  </tbody>\n",
       "</table>\n",
       "</div>"
      ],
      "text/plain": [
       "                   id                                       Adj_Adv_Verb\n",
       "0  246058208366559232               mitt say gunna then obama is fucked \n",
       "1  246058213500407808       has lived abroad changes view foreign quite \n",
       "2  246058214507048960                has apologize cant get wan na make \n",
       "3  246058214158897152  please stop is good is not proved Being good a...\n",
       "4  246058214276354050  am glad defended free is clear is too busy app..."
      ]
     },
     "execution_count": 35,
     "metadata": {},
     "output_type": "execute_result"
    }
   ],
   "source": [
    "tweets_imp_words_df.head()"
   ]
  },
  {
   "cell_type": "code",
   "execution_count": 34,
   "metadata": {},
   "outputs": [],
   "source": [
    "# temp"
   ]
  },
  {
   "cell_type": "code",
   "execution_count": null,
   "metadata": {},
   "outputs": [],
   "source": []
  }
 ],
 "metadata": {
  "kernelspec": {
   "display_name": "Python 3",
   "language": "python",
   "name": "python3"
  },
  "language_info": {
   "codemirror_mode": {
    "name": "ipython",
    "version": 3
   },
   "file_extension": ".py",
   "mimetype": "text/x-python",
   "name": "python",
   "nbconvert_exporter": "python",
   "pygments_lexer": "ipython3",
   "version": "3.7.3"
  }
 },
 "nbformat": 4,
 "nbformat_minor": 2
}
