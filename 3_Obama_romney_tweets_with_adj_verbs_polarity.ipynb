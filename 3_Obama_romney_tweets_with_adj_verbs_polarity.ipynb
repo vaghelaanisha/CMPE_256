{
 "cells": [
  {
   "cell_type": "code",
   "execution_count": 1,
   "metadata": {},
   "outputs": [],
   "source": [
    "import json\n",
    "tweets = []\n",
    "for line in open('tweets.json', 'r'):\n",
    "    tweets.append(json.loads(line))"
   ]
  },
  {
   "cell_type": "code",
   "execution_count": 13,
   "metadata": {},
   "outputs": [
    {
     "data": {
      "text/plain": [
       "{'in_reply_to_status_id_str': None,\n",
       " 'text': 'If mitt romney say he gunna legalize weed then obama is fucked',\n",
       " 'geo': None,\n",
       " 'in_reply_to_screen_name': None,\n",
       " 'in_reply_to_user_id': None,\n",
       " 'in_reply_to_user_id_str': None,\n",
       " 'id_str': '246058205367644160',\n",
       " 'retweeted': False,\n",
       " 'created_at': 'Thu Sep 13 01:30:22 +0000 2012',\n",
       " 'source': '<a href=\"http://twitter.com/download/iphone\" rel=\"nofollow\">Twitter for iPhone</a>',\n",
       " 'entities': {'urls': [], 'user_mentions': [], 'hashtags': []},\n",
       " 'in_reply_to_status_id': None,\n",
       " 'place': None,\n",
       " 'contributors': None,\n",
       " 'coordinates': None,\n",
       " 'favorited': False,\n",
       " 'user': {'follow_request_sent': None,\n",
       "  'statuses_count': 23815,\n",
       "  'profile_background_image_url_https': 'https://si0.twimg.com/profile_background_images/643937019/07gmvz818szy9m7tupnt.jpeg',\n",
       "  'default_profile_image': False,\n",
       "  'friends_count': 721,\n",
       "  'profile_sidebar_border_color': '000000',\n",
       "  'id_str': '237158178',\n",
       "  'is_translator': False,\n",
       "  'verified': False,\n",
       "  'favourites_count': 39,\n",
       "  'geo_enabled': True,\n",
       "  'profile_use_background_image': True,\n",
       "  'created_at': 'Wed Jan 12 06:10:29 +0000 2011',\n",
       "  'profile_image_url': 'http://a0.twimg.com/profile_images/2483468216/image_normal.jpg',\n",
       "  'description': 'Name Jay. \\r\\nBirthday December 31st. \\r\\n#OrangeNJ  HeartTaken\\r\\nInstagram : _jayhurt24',\n",
       "  'profile_text_color': 'FCEFFC',\n",
       "  'url': None,\n",
       "  'lang': 'en',\n",
       "  'profile_background_image_url': 'http://a0.twimg.com/profile_background_images/643937019/07gmvz818szy9m7tupnt.jpeg',\n",
       "  'profile_image_url_https': 'https://si0.twimg.com/profile_images/2483468216/image_normal.jpg',\n",
       "  'listed_count': 11,\n",
       "  'profile_link_color': 'B31616',\n",
       "  'followers_count': 814,\n",
       "  'screen_name': '_JayDRose24',\n",
       "  'contributors_enabled': False,\n",
       "  'time_zone': 'Eastern Time (US & Canada)',\n",
       "  'protected': False,\n",
       "  'location': 'The World That Never Was',\n",
       "  'default_profile': False,\n",
       "  'following': None,\n",
       "  'profile_background_color': '131516',\n",
       "  'name': '♑NagasumiBarrier\\uf8ff',\n",
       "  'profile_background_tile': False,\n",
       "  'id': 237158178,\n",
       "  'show_all_inline_media': True,\n",
       "  'notifications': None,\n",
       "  'utc_offset': -18000,\n",
       "  'profile_sidebar_fill_color': '000000'},\n",
       " 'retweet_count': 0,\n",
       " 'id': 246058205367644160,\n",
       " 'truncated': False}"
      ]
     },
     "execution_count": 13,
     "metadata": {},
     "output_type": "execute_result"
    }
   ],
   "source": [
    "tweets[0]"
   ]
  },
  {
   "cell_type": "code",
   "execution_count": 3,
   "metadata": {},
   "outputs": [],
   "source": [
    "import pandas as pd\n",
    "tweets_df = pd.DataFrame(columns=['id','tweet'],index=None)\n",
    "for tweet in tweets[0:1000]:\n",
    "    data = pd.DataFrame({\"id\":[tweet['id_str']],\"tweet\":[tweet['text']]})\n",
    "    tweets_df = tweets_df.append(data, ignore_index = True)"
   ]
  },
  {
   "cell_type": "code",
   "execution_count": 4,
   "metadata": {},
   "outputs": [],
   "source": [
    "import numpy as np\n",
    "import pandas as pd\n",
    "import scipy.sparse as sp\n",
    "from numpy.linalg import norm\n",
    "from collections import Counter, defaultdict\n",
    "from scipy.sparse import csr_matrix\n"
   ]
  },
  {
   "cell_type": "code",
   "execution_count": 16,
   "metadata": {},
   "outputs": [
    {
     "name": "stdout",
     "output_type": "stream",
     "text": [
      "655567\n"
     ]
    }
   ],
   "source": [
    "cnt = 0\n",
    "for i in range (0,1000000):\n",
    "    if len(tweets[i]['entities']['user_mentions']) > 0:\n",
    "#         print(tweets[i]['text'])\n",
    "#         print(tweets[i]['entities']['user_mentions'])\n",
    "        cnt += 1\n",
    "        \n",
    "print(cnt)"
   ]
  },
  {
   "cell_type": "code",
   "execution_count": 30,
   "metadata": {},
   "outputs": [
    {
     "name": "stdout",
     "output_type": "stream",
     "text": [
      "324805\n",
      "30092\n",
      "51443\n"
     ]
    }
   ],
   "source": [
    "obama_cnt = 0\n",
    "romney_cnt = 0\n",
    "obama_romney_cnt = 0\n",
    "for i in range(0,1000000):\n",
    "    obama = False;\n",
    "    romney = False;\n",
    "    for word in tweets[i]['text'].split():\n",
    "#         print(word)\n",
    "        if word.lower() in [\"obama\",\"barack\",\"barackobama\",\"obamabarack\"]:\n",
    "            obama = True\n",
    "        if word.lower() in[\"mitt\",\"romney\",\"mittromney\",\"romneymitt\"]:\n",
    "            romney = True\n",
    "    if obama == True and romney == False:\n",
    "        obama_cnt += 1\n",
    "    elif obama == False and romney == True:\n",
    "        romney_cnt += 1\n",
    "    elif obama == True and romney == True:\n",
    "        obama_romney_cnt += 1\n",
    "print(obama_cnt)\n",
    "print(romney_cnt)\n",
    "print(obama_romney_cnt)"
   ]
  },
  {
   "cell_type": "code",
   "execution_count": 19,
   "metadata": {},
   "outputs": [
    {
     "data": {
      "text/plain": [
       "'If mitt romney say he gunna legalize weed then obama is fucked'"
      ]
     },
     "execution_count": 19,
     "metadata": {},
     "output_type": "execute_result"
    }
   ],
   "source": [
    "tweets[0]['text']"
   ]
  },
  {
   "cell_type": "code",
   "execution_count": 34,
   "metadata": {},
   "outputs": [
    {
     "name": "stdout",
     "output_type": "stream",
     "text": [
      "i: 0\n",
      "i: 10000\n",
      "i: 20000\n",
      "i: 30000\n",
      "i: 40000\n",
      "i: 50000\n",
      "i: 60000\n",
      "i: 70000\n",
      "i: 80000\n",
      "i: 90000\n",
      "i: 100000\n",
      "i: 110000\n",
      "i: 120000\n",
      "i: 130000\n",
      "i: 140000\n",
      "i: 150000\n",
      "i: 160000\n",
      "i: 170000\n",
      "i: 180000\n",
      "i: 190000\n",
      "i: 200000\n",
      "i: 210000\n",
      "i: 220000\n",
      "i: 230000\n",
      "i: 240000\n",
      "i: 250000\n",
      "i: 260000\n",
      "i: 270000\n",
      "i: 280000\n",
      "i: 290000\n",
      "i: 300000\n",
      "i: 310000\n",
      "i: 320000\n",
      "i: 330000\n",
      "i: 340000\n",
      "i: 350000\n",
      "i: 360000\n",
      "i: 370000\n",
      "i: 380000\n",
      "i: 390000\n",
      "i: 400000\n",
      "i: 410000\n",
      "i: 420000\n",
      "i: 430000\n",
      "i: 440000\n",
      "i: 450000\n",
      "i: 460000\n",
      "i: 470000\n",
      "i: 480000\n",
      "i: 490000\n",
      "i: 500000\n",
      "i: 510000\n",
      "i: 520000\n",
      "i: 530000\n",
      "i: 540000\n",
      "i: 550000\n",
      "i: 560000\n",
      "i: 570000\n",
      "i: 580000\n",
      "i: 590000\n",
      "i: 600000\n",
      "i: 610000\n",
      "i: 620000\n",
      "i: 630000\n",
      "i: 640000\n",
      "i: 650000\n",
      "i: 660000\n",
      "i: 670000\n",
      "i: 680000\n",
      "i: 690000\n",
      "i: 700000\n",
      "i: 710000\n",
      "i: 720000\n",
      "i: 730000\n",
      "i: 740000\n",
      "i: 750000\n",
      "i: 760000\n",
      "i: 770000\n",
      "i: 780000\n",
      "i: 790000\n",
      "i: 800000\n",
      "i: 810000\n",
      "i: 820000\n",
      "i: 830000\n",
      "i: 840000\n",
      "i: 850000\n",
      "i: 860000\n",
      "i: 870000\n",
      "i: 880000\n",
      "i: 890000\n",
      "i: 900000\n",
      "i: 910000\n",
      "i: 920000\n",
      "i: 930000\n",
      "i: 940000\n",
      "i: 950000\n",
      "i: 960000\n",
      "i: 970000\n",
      "i: 980000\n",
      "i: 990000\n",
      "324805\n",
      "30092\n",
      "0\n"
     ]
    }
   ],
   "source": [
    "obama_cnt = 0\n",
    "romney_cnt = 0\n",
    "obama_romney_cnt = 0\n",
    "\n",
    "import pandas as pd\n",
    "tweets_df = pd.DataFrame(columns=['id','tweet'],index=None)\n",
    "\n",
    "for i in range(0,len(tweets)):\n",
    "    if(i % 10000 == 0):\n",
    "        print(\"i:\",i)\n",
    "    obama = False;\n",
    "    romney = False;\n",
    "    for word in tweets[i]['text'].split():\n",
    "#         print(word)\n",
    "        if word.lower() in [\"obama\",\"barack\",\"barackobama\",\"obamabarack\"]:\n",
    "            obama = True\n",
    "        if word.lower() in[\"mitt\",\"romney\",\"mittromney\",\"romneymitt\"]:\n",
    "            romney = True\n",
    "    if obama == True and romney == False:\n",
    "        data = pd.DataFrame({\"id\":[tweets[i]['id_str']],\"tweet\":[tweets[i]['text']]})\n",
    "        tweets_df = tweets_df.append(data, ignore_index = True)\n",
    "        obama_cnt += 1\n",
    "    elif obama == False and romney == True:\n",
    "        data = pd.DataFrame({\"id\":[tweets[i]['id_str']],\"tweet\":[tweets[i]['text']]})\n",
    "        tweets_df = tweets_df.append(data, ignore_index = True)\n",
    "        romney_cnt += 1\n",
    "#     elif obama == True and romney == True:\n",
    "#         obama_romney_cnt += 1\n",
    "print(obama_cnt)\n",
    "print(romney_cnt)\n",
    "print(obama_romney_cnt)"
   ]
  },
  {
   "cell_type": "code",
   "execution_count": 35,
   "metadata": {},
   "outputs": [
    {
     "name": "stdout",
     "output_type": "stream",
     "text": [
      "354897\n"
     ]
    }
   ],
   "source": [
    "print(len(tweets_df))"
   ]
  },
  {
   "cell_type": "code",
   "execution_count": 36,
   "metadata": {},
   "outputs": [
    {
     "data": {
      "text/plain": [
       "'As a youth who has lived abroad I share the President s feelings It changes how you view foreign relations quite a bit election2012'"
      ]
     },
     "execution_count": 36,
     "metadata": {},
     "output_type": "execute_result"
    }
   ],
   "source": [
    "# import re\n",
    "# # x = tweets_df.iloc[1]['tweet']\n",
    "# x = \"@SuePalmers As a youth who has lived abroad, I share the #President's feelings. It changes how you view foreign relations quite a bit. #election2012\"\n",
    "# x = ' '.join(re.sub(\"(RT)|(@[A-Za-z0-9]+)|([^0-9A-Za-z \\t])|(\\w+:\\/\\/\\S+)\",\" \",x).split())\n",
    "# x"
   ]
  },
  {
   "cell_type": "code",
   "execution_count": 44,
   "metadata": {},
   "outputs": [
    {
     "name": "stdout",
     "output_type": "stream",
     "text": [
      "i: 0\n",
      "i: 10000\n",
      "i: 20000\n",
      "i: 30000\n",
      "i: 40000\n",
      "i: 50000\n",
      "i: 60000\n",
      "i: 70000\n",
      "i: 80000\n",
      "i: 90000\n",
      "i: 100000\n",
      "i: 110000\n",
      "i: 120000\n",
      "i: 130000\n",
      "i: 140000\n",
      "i: 150000\n",
      "i: 160000\n",
      "i: 170000\n",
      "i: 180000\n",
      "i: 190000\n",
      "i: 200000\n",
      "i: 210000\n",
      "i: 220000\n",
      "i: 230000\n",
      "i: 240000\n",
      "i: 250000\n",
      "i: 260000\n",
      "i: 270000\n",
      "i: 280000\n",
      "i: 290000\n",
      "i: 300000\n",
      "i: 310000\n",
      "i: 320000\n",
      "i: 330000\n",
      "i: 340000\n",
      "i: 350000\n"
     ]
    }
   ],
   "source": [
    "import re\n",
    "processed_tweet = []\n",
    "for i in range (0,len(tweets_df)):\n",
    "    if(i % 10000 == 0):\n",
    "        print(\"i:\",i)\n",
    "    x = tweets_df.iloc[i]['tweet']\n",
    "#     tweets_df.iloc[i]['tweet'] = ' '.join(re.sub(\"(RT)|(@[A-Za-z0-9]+)|([^0-9A-Za-z \\t])|(\\w+:\\/\\/\\S+)\",\" \",x).split())\n",
    "    temp = ' '.join(re.sub(\"(RT)|(@[A-Za-z0-9]+)|([^0-9A-Za-z \\t])|(\\w+:\\/\\/\\S+)\",\" \",x).split())\n",
    "    processed_tweet.append(temp)\n",
    "tweets_df['processed_tweet'] = processed_tweet\n"
   ]
  },
  {
   "cell_type": "code",
   "execution_count": 45,
   "metadata": {},
   "outputs": [
    {
     "data": {
      "text/html": [
       "<div>\n",
       "<style scoped>\n",
       "    .dataframe tbody tr th:only-of-type {\n",
       "        vertical-align: middle;\n",
       "    }\n",
       "\n",
       "    .dataframe tbody tr th {\n",
       "        vertical-align: top;\n",
       "    }\n",
       "\n",
       "    .dataframe thead th {\n",
       "        text-align: right;\n",
       "    }\n",
       "</style>\n",
       "<table border=\"1\" class=\"dataframe\">\n",
       "  <thead>\n",
       "    <tr style=\"text-align: right;\">\n",
       "      <th></th>\n",
       "      <th>id</th>\n",
       "      <th>tweet</th>\n",
       "      <th>processed_tweet</th>\n",
       "    </tr>\n",
       "  </thead>\n",
       "  <tbody>\n",
       "    <tr>\n",
       "      <th>0</th>\n",
       "      <td>246058206651117568</td>\n",
       "      <td>Can we please stop pretending that Obama is a ...</td>\n",
       "      <td>Can we please stop pretending that Obama is a ...</td>\n",
       "    </tr>\n",
       "    <tr>\n",
       "      <th>1</th>\n",
       "      <td>246058207460614144</td>\n",
       "      <td>RT @MotherJones: The official GOP response to ...</td>\n",
       "      <td>The official GOP response to Americans being k...</td>\n",
       "    </tr>\n",
       "    <tr>\n",
       "      <th>2</th>\n",
       "      <td>246058208463044608</td>\n",
       "      <td>RT @PolarCoug: Obama would never make a good r...</td>\n",
       "      <td>Obama would never make a good running back He ...</td>\n",
       "    </tr>\n",
       "    <tr>\n",
       "      <th>3</th>\n",
       "      <td>246058208584671234</td>\n",
       "      <td>RT @Zack_gale: You cant bag on Obama if you on...</td>\n",
       "      <td>gale You cant bag on Obama if you only pay att...</td>\n",
       "    </tr>\n",
       "    <tr>\n",
       "      <th>4</th>\n",
       "      <td>246058212116267008</td>\n",
       "      <td>@SethLavin national pressure on both sides to ...</td>\n",
       "      <td>national pressure on both sides to end it will...</td>\n",
       "    </tr>\n",
       "  </tbody>\n",
       "</table>\n",
       "</div>"
      ],
      "text/plain": [
       "                   id                                              tweet  \\\n",
       "0  246058206651117568  Can we please stop pretending that Obama is a ...   \n",
       "1  246058207460614144  RT @MotherJones: The official GOP response to ...   \n",
       "2  246058208463044608  RT @PolarCoug: Obama would never make a good r...   \n",
       "3  246058208584671234  RT @Zack_gale: You cant bag on Obama if you on...   \n",
       "4  246058212116267008  @SethLavin national pressure on both sides to ...   \n",
       "\n",
       "                                     processed_tweet  \n",
       "0  Can we please stop pretending that Obama is a ...  \n",
       "1  The official GOP response to Americans being k...  \n",
       "2  Obama would never make a good running back He ...  \n",
       "3  gale You cant bag on Obama if you only pay att...  \n",
       "4  national pressure on both sides to end it will...  "
      ]
     },
     "execution_count": 45,
     "metadata": {},
     "output_type": "execute_result"
    }
   ],
   "source": [
    "tweets_df.head()"
   ]
  },
  {
   "cell_type": "code",
   "execution_count": 46,
   "metadata": {},
   "outputs": [],
   "source": [
    "from nltk.tokenize import word_tokenize\n",
    "# text = word_tokenize(\"And now for something completely different\")"
   ]
  },
  {
   "cell_type": "code",
   "execution_count": 47,
   "metadata": {},
   "outputs": [
    {
     "name": "stdout",
     "output_type": "stream",
     "text": [
      "i: 0\n",
      "i: 10000\n",
      "i: 20000\n",
      "i: 30000\n",
      "i: 40000\n",
      "i: 50000\n",
      "i: 60000\n",
      "i: 70000\n",
      "i: 80000\n",
      "i: 90000\n",
      "i: 100000\n",
      "i: 110000\n",
      "i: 120000\n",
      "i: 130000\n",
      "i: 140000\n",
      "i: 150000\n",
      "i: 160000\n",
      "i: 170000\n",
      "i: 180000\n",
      "i: 190000\n",
      "i: 200000\n",
      "i: 210000\n",
      "i: 220000\n",
      "i: 230000\n",
      "i: 240000\n",
      "i: 250000\n",
      "i: 260000\n",
      "i: 270000\n",
      "i: 280000\n",
      "i: 290000\n",
      "i: 300000\n",
      "i: 310000\n",
      "i: 320000\n",
      "i: 330000\n",
      "i: 340000\n",
      "i: 350000\n"
     ]
    }
   ],
   "source": [
    "import nltk\n",
    "tweets_imp_words_df = pd.DataFrame(columns=['id','Adj_Adv_Verb','pos'],index=None)\n",
    "for i in range (0,len(tweets_df)):\n",
    "    if(i % 10000 == 0):\n",
    "        print(\"i:\",i)\n",
    "    text = word_tokenize(tweets_df.iloc[i]['processed_tweet'])\n",
    "    pos_tagged_words = nltk.pos_tag(text)\n",
    "    tempStr = ''\n",
    "    pos = []\n",
    "    for i in range(0,len(pos_tagged_words)):\n",
    "        if pos_tagged_words[i][1] in ['JJ','JJR','JJS','RB','RBR','RBS','VB','VBD','VBG','VBN','VBP','VBZ']:\n",
    "            tempStr += pos_tagged_words[i][0]+\" \"\n",
    "            pos.append(pos_tagged_words[i][1])\n",
    "    tempData = pd.DataFrame({\"id\":[tweets_df.iloc[i]['id']],\"Adj_Adv_Verb\":[tempStr],\"pos\":[pos]})\n",
    "    tweets_imp_words_df = tweets_imp_words_df.append(tempData, ignore_index = True)"
   ]
  },
  {
   "cell_type": "code",
   "execution_count": 50,
   "metadata": {},
   "outputs": [
    {
     "name": "stdout",
     "output_type": "stream",
     "text": [
      "354897\n"
     ]
    }
   ],
   "source": [
    "tweets_imp_words_df.head()\n",
    "print(len(tweets_imp_words_df))"
   ]
  },
  {
   "cell_type": "code",
   "execution_count": 51,
   "metadata": {},
   "outputs": [
    {
     "name": "stdout",
     "output_type": "stream",
     "text": [
      "i: 0\n",
      "i: 10000\n",
      "i: 20000\n",
      "i: 30000\n",
      "i: 40000\n",
      "i: 50000\n",
      "i: 60000\n",
      "i: 70000\n",
      "i: 80000\n",
      "i: 90000\n",
      "i: 100000\n",
      "i: 110000\n",
      "i: 120000\n",
      "i: 130000\n",
      "i: 140000\n",
      "i: 150000\n",
      "i: 160000\n",
      "i: 170000\n",
      "i: 180000\n",
      "i: 190000\n",
      "i: 200000\n",
      "i: 210000\n",
      "i: 220000\n",
      "i: 230000\n",
      "i: 240000\n",
      "i: 250000\n",
      "i: 260000\n",
      "i: 270000\n",
      "i: 280000\n",
      "i: 290000\n",
      "i: 300000\n",
      "i: 310000\n",
      "i: 320000\n",
      "i: 330000\n",
      "i: 340000\n",
      "i: 350000\n"
     ]
    }
   ],
   "source": [
    "import nltk\n",
    "from nltk.sentiment.vader import SentimentIntensityAnalyzer\n",
    "import pandas as pd\n",
    "\n",
    "sid = SentimentIntensityAnalyzer()\n",
    "individual_score = []\n",
    "for i in range (0,len(tweets_imp_words_df)):\n",
    "    if(i % 10000 == 0):\n",
    "        print(\"i:\",i)\n",
    "    temp_individual_score = []\n",
    "    for word in tweets_imp_words_df.iloc[i]['Adj_Adv_Verb'].split():\n",
    "        temp_individual_score.append(sid.polarity_scores(word)['compound'])\n",
    "    individual_score.append(temp_individual_score)\n",
    "tweets_imp_words_df['individual_scores'] = individual_score"
   ]
  },
  {
   "cell_type": "code",
   "execution_count": 52,
   "metadata": {},
   "outputs": [
    {
     "name": "stdout",
     "output_type": "stream",
     "text": [
      "i: 0\n",
      "i: 10000\n",
      "i: 20000\n",
      "i: 30000\n",
      "i: 40000\n",
      "i: 50000\n",
      "i: 60000\n",
      "i: 70000\n",
      "i: 80000\n",
      "i: 90000\n",
      "i: 100000\n",
      "i: 110000\n",
      "i: 120000\n",
      "i: 130000\n",
      "i: 140000\n",
      "i: 150000\n",
      "i: 160000\n",
      "i: 170000\n",
      "i: 180000\n",
      "i: 190000\n",
      "i: 200000\n",
      "i: 210000\n",
      "i: 220000\n",
      "i: 230000\n",
      "i: 240000\n",
      "i: 250000\n",
      "i: 260000\n",
      "i: 270000\n",
      "i: 280000\n",
      "i: 290000\n",
      "i: 300000\n",
      "i: 310000\n",
      "i: 320000\n",
      "i: 330000\n",
      "i: 340000\n",
      "i: 350000\n"
     ]
    }
   ],
   "source": [
    "for i in range (0,len(tweets_imp_words_df)):\n",
    "    if(i % 10000 == 0):\n",
    "        print(\"i:\",i)\n",
    "    pos = tweets_imp_words_df.iloc[i]['pos']\n",
    "    for j in range (1,len(tweets_imp_words_df.iloc[i]['individual_scores'])):\n",
    "        if(pos[j] in ['JJ','JJR','JJS'] and pos[j-1] not in ['JJ','JJR','JJS']):\n",
    "            if(tweets_imp_words_df.iloc[i]['individual_scores'][j-1] > 0):\n",
    "                tweets_imp_words_df.iloc[i]['individual_scores'][j-1] *= tweets_imp_words_df.iloc[i]['individual_scores'][j]\n",
    "            elif(tweets_imp_words_df.iloc[i]['individual_scores'][j-1] < 0):\n",
    "                tweets_imp_words_df.iloc[i]['individual_scores'][j] = 5 - tweets_imp_words_df.iloc[i]['individual_scores'][j]"
   ]
  },
  {
   "cell_type": "code",
   "execution_count": 53,
   "metadata": {},
   "outputs": [],
   "source": [
    "score = []\n",
    "for i in range (0,len(tweets_imp_words_df)):\n",
    "    temp_score = 0;\n",
    "    no_of_adj = 0;\n",
    "    pos = tweets_imp_words_df.iloc[i]['pos']\n",
    "    for j in range (0,len(tweets_imp_words_df.iloc[i]['individual_scores'])):\n",
    "        temp_score += tweets_imp_words_df.iloc[i]['individual_scores'][j]\n",
    "        if(pos[j] in ['JJ','JJR','JJS']):\n",
    "            no_of_adj += 1;\n",
    "    if no_of_adj > 0:\n",
    "        temp_score = temp_score/no_of_adj;\n",
    "    score.append(temp_score)\n",
    "tweets_imp_words_df['score'] = score"
   ]
  },
  {
   "cell_type": "code",
   "execution_count": 54,
   "metadata": {},
   "outputs": [
    {
     "name": "stdout",
     "output_type": "stream",
     "text": [
      "i: 0\n",
      "i: 10000\n",
      "i: 20000\n",
      "i: 30000\n",
      "i: 40000\n",
      "i: 50000\n",
      "i: 60000\n",
      "i: 70000\n",
      "i: 80000\n",
      "i: 90000\n",
      "i: 100000\n",
      "i: 110000\n",
      "i: 120000\n",
      "i: 130000\n",
      "i: 140000\n",
      "i: 150000\n",
      "i: 160000\n",
      "i: 170000\n",
      "i: 180000\n",
      "i: 190000\n",
      "i: 200000\n",
      "i: 210000\n",
      "i: 220000\n",
      "i: 230000\n",
      "i: 240000\n",
      "i: 250000\n",
      "i: 260000\n",
      "i: 270000\n",
      "i: 280000\n",
      "i: 290000\n",
      "i: 300000\n",
      "i: 310000\n",
      "i: 320000\n",
      "i: 330000\n",
      "i: 340000\n",
      "i: 350000\n"
     ]
    }
   ],
   "source": [
    "pos = 0;\n",
    "neg = 0;\n",
    "neu = 0;\n",
    "for i in range (0,len(tweets_imp_words_df)):\n",
    "    if(i % 10000 == 0):\n",
    "        print(\"i:\",i)\n",
    "    if tweets_imp_words_df.iloc[i]['score'] > 0:\n",
    "        pos += 1\n",
    "    elif  tweets_imp_words_df.iloc[i]['score'] < 0:\n",
    "        neg += 1\n",
    "    else:\n",
    "        neu += 1"
   ]
  },
  {
   "cell_type": "code",
   "execution_count": 55,
   "metadata": {},
   "outputs": [
    {
     "name": "stdout",
     "output_type": "stream",
     "text": [
      "83948\n",
      "75207\n",
      "195742\n"
     ]
    }
   ],
   "source": [
    "print(pos)\n",
    "print(neg)\n",
    "print(neu)"
   ]
  },
  {
   "cell_type": "code",
   "execution_count": 57,
   "metadata": {},
   "outputs": [
    {
     "name": "stdout",
     "output_type": "stream",
     "text": [
      "i: 0\n",
      "i: 20000\n",
      "i: 40000\n",
      "i: 60000\n",
      "i: 80000\n",
      "i: 100000\n",
      "i: 120000\n",
      "i: 140000\n",
      "i: 160000\n",
      "i: 180000\n",
      "i: 200000\n",
      "i: 220000\n",
      "i: 240000\n",
      "i: 260000\n",
      "i: 280000\n",
      "i: 300000\n",
      "i: 320000\n",
      "i: 340000\n"
     ]
    }
   ],
   "source": [
    "is_obama = []\n",
    "is_romney = []\n",
    "for i in range(0,len(tweets_imp_words_df)):\n",
    "    if(i % 20000 == 0):\n",
    "        print(\"i:\",i)\n",
    "    obama = False;\n",
    "    romney = False;\n",
    "    for word in tweets_df.iloc[i]['tweet'].split():\n",
    "#         print(word)\n",
    "        if word.lower() in [\"obama\",\"barack\"]:\n",
    "            obama = True\n",
    "        if word.lower() in[\"mitt\",\"romney\"]:\n",
    "            romney = True\n",
    "    is_obama.append(obama)\n",
    "    is_romney.append(romney)\n",
    "tweets_imp_words_df['is_obama'] = is_obama\n",
    "tweets_imp_words_df['is_romney'] = is_romney"
   ]
  },
  {
   "cell_type": "code",
   "execution_count": 58,
   "metadata": {},
   "outputs": [
    {
     "name": "stdout",
     "output_type": "stream",
     "text": [
      "i: 0\n",
      "i: 20000\n",
      "i: 40000\n",
      "i: 60000\n",
      "i: 80000\n",
      "i: 100000\n",
      "i: 120000\n",
      "i: 140000\n",
      "i: 160000\n",
      "i: 180000\n",
      "i: 200000\n",
      "i: 220000\n",
      "i: 240000\n",
      "i: 260000\n",
      "i: 280000\n",
      "i: 300000\n",
      "i: 320000\n",
      "i: 340000\n",
      "obama_pos 77341\n",
      "obama_neg 67574\n",
      "obama_neu 179882\n",
      "romney_pos 6603\n",
      "romney_neg 7545\n",
      "romney_neu 15854\n"
     ]
    }
   ],
   "source": [
    "obama_pos = 0\n",
    "obama_neg = 0\n",
    "obama_neu = 0\n",
    "romney_pos = 0\n",
    "romney_neg = 0\n",
    "romney_neu = 0\n",
    "for i in range (0, len(tweets_imp_words_df)):\n",
    "    if(i % 20000 == 0):\n",
    "        print(\"i:\",i)\n",
    "    if tweets_imp_words_df.iloc[i]['is_obama'] == True and tweets_imp_words_df.iloc[i]['score'] > 0:\n",
    "        obama_pos += 1\n",
    "    elif tweets_imp_words_df.iloc[i]['is_obama'] == True and tweets_imp_words_df.iloc[i]['score'] < 0:\n",
    "        obama_neg += 1\n",
    "    elif tweets_imp_words_df.iloc[i]['is_obama'] == True and tweets_imp_words_df.iloc[i]['score'] == 0:\n",
    "        obama_neu += 1\n",
    "    elif tweets_imp_words_df.iloc[i]['is_romney'] == True and tweets_imp_words_df.iloc[i]['score'] > 0:\n",
    "        romney_pos += 1\n",
    "    elif tweets_imp_words_df.iloc[i]['is_romney'] == True and tweets_imp_words_df.iloc[i]['score'] < 0:\n",
    "        romney_neg += 1\n",
    "    elif tweets_imp_words_df.iloc[i]['is_romney'] == True and tweets_imp_words_df.iloc[i]['score'] == 0:\n",
    "        romney_neu += 1\n",
    "        \n",
    "print(\"obama_pos\",obama_pos)\n",
    "print(\"obama_neg\",obama_neg)\n",
    "print(\"obama_neu\",obama_neu)\n",
    "print(\"romney_pos\",romney_pos)\n",
    "print(\"romney_neg\",romney_neg)\n",
    "print(\"romney_neu\",romney_neu)"
   ]
  },
  {
   "cell_type": "code",
   "execution_count": null,
   "metadata": {},
   "outputs": [],
   "source": []
  }
 ],
 "metadata": {
  "kernelspec": {
   "display_name": "Python 3",
   "language": "python",
   "name": "python3"
  },
  "language_info": {
   "codemirror_mode": {
    "name": "ipython",
    "version": 3
   },
   "file_extension": ".py",
   "mimetype": "text/x-python",
   "name": "python",
   "nbconvert_exporter": "python",
   "pygments_lexer": "ipython3",
   "version": "3.7.3"
  }
 },
 "nbformat": 4,
 "nbformat_minor": 2
}
